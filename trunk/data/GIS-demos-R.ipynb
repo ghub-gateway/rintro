{
 "cells": [
  {
   "cell_type": "markdown",
   "metadata": {},
   "source": [
    "# Plot GIS Data in R"
   ]
  },
  {
   "cell_type": "markdown",
   "metadata": {},
   "source": [
    "<div class=\"alert alert-info\">\n",
    "This information is provided for background. Some of the packages mentioned below have been superseded in current versions of R, and are not included in the 3.6.1 kernel on this science gateway. To explore GIS plotting, we recommend the [Rocker](https://www.rocker-project.org/) project, which provisions Docker images with R packages.\n",
    "</div>"
   ]
  },
  {
   "cell_type": "markdown",
   "metadata": {},
   "source": [
    "This notebook explores a GIS (graphical information systems) plotting demo in R. As directed below, open the source code in the RStudio development environment and follow along with the comments and the code, as you join datasets and make plots.\n",
    "\n",
    "This demo uses R packages:\n",
    "- [rgdal](https://cran.r-project.org/web/packages/rgdal/index.html)\n",
    "- [ggplot2](https://cran.r-project.org/web/packages/ggplot2/index.html)\n",
    "- [maptools](https://cran.r-project.org/web/packages/maptools/index.html)\n",
    "- [gpclib](https://cran.r-project.org/web/packages/gpclib/index.html) -- deprecated and largely replaced by rgeos package\n",
    "\n",
    "Each package is loaded in R using the command as follows:\n",
    "\n",
    "``` library(ggplot2) ```\n",
    "\n",
    "\n",
    "<div class=\"alert alert-info\">\n",
    "Note that some packages require underlying system libraries that must be compiled and installed. An example is R package \n",
    "<i>[rgdal](https://cran.r-project.org/web/packages/rgdal/index.html)</i>, which relies on the <i>gdal</i> library.\n",
    "</div>"
   ]
  },
  {
   "cell_type": "markdown",
   "metadata": {},
   "source": [
    " This screenshot shows a plot of hospital admissions counts across New York State. We'll make this plot in the demo outlined below.\n",
    "![](fig-7-rstudio.jpg \"GIS plot in RStudio\")"
   ]
  },
  {
   "cell_type": "markdown",
   "metadata": {},
   "source": [
    "## Introductory plotting with GIS data\n",
    "\n",
    "Start the RStudio tool on VIDIA. Once the RStudio tool loads, select File: Open File and enter:\n",
    "\n",
    "``` /data/demo/nys/ny-counties-plot-demo.R ```\n",
    "\n",
    "1. Place your cursor at the beginning of the source and advance through it with the Run button. \n",
    "    1. You will see various messages and warnings displayed on the RStudio Console.\n",
    "    1. Note that the readSparcs() function will take a minute or so to complete. While the dataset is loading, the application will display a red stop sign and will not accept any further inputs.\n",
    "    \n",
    "<div class=\"alert alert-info\">\n",
    "Execute through the source line by line because expected warnings from the gpclib component of the maptools package prevent sourcing the entire file.\n",
    "</div>\n",
    "\n",
    "2. RStudio will plot the counties of New York state, colorized by:\n",
    "\n",
    "    - Square miles\n",
    "    - Population\n",
    "\n",
    "\n",
    "3. Next, it will joint the GIS data to a NYS hospitalization data and display:\n",
    "\n",
    "    - A naive attempt to plot the state map (with an incomplete join)\n",
    "    - A sound attempt to plot the state map\n",
    "    - Counties, colored by count of hospital admissions, 2011  \n",
    "    - Counties, colored by count of hospital admissions as a percent of the 2000 population, 2011 \n",
    "\n"
   ]
  },
  {
   "cell_type": "markdown",
   "metadata": {},
   "source": [
    "## Further plotting with GIS data\n",
    "\n",
    "\n",
    "To see more examples of the GIS dataset joined with a NYS hospitalization dataset, load and run:\n",
    "\n",
    "``` /data/demo/nys/gis-sparcs-demo/gisSparcsCountiesPlot.R ```\n",
    "\n",
    "Step through the lines of the source as before.\n",
    "\n",
    "To plot the visualizations in RStudio, you will need to specify the plot names in the console after running the script. These display the incidence of various kinds of ailments in the state, based on public hospitalization data, in 2011.\n",
    "\n",
    "``` \n",
    "plotresp1\n",
    "plotresp2\n",
    "plotcancer1\n",
    "plotcancer2 \n",
    "```"
   ]
  },
  {
   "cell_type": "markdown",
   "metadata": {},
   "source": [
    "## NOTE\n",
    "\n",
    "R packages available under Anaconda are listed here:  \n",
    "    https://repo.anaconda.com/pkgs/r/\n",
    "\n",
    "NOTE that it would be nice to add some GIS packages to this R 3.6.1 env:\n",
    "\n",
    "        r-rgdal--https://anaconda.org/conda-forge/r-rgdal\n",
    "            requires install of GDAL and PROJ.4 libraries, probably system level\n",
    "        r-maptools (available from conda-forge and/or from r )\n",
    "        \n",
    "        gpclib (General polygon clipping routines), appears deprecated/replaced by rgeos\n",
    "        \n",
    "        r-rgeos is available from conda-forge and from r"
   ]
  }
 ],
 "metadata": {
  "kernelspec": {
   "display_name": "R 3.6.1",
   "language": "R",
   "name": "r_3.6.0"
  },
  "language_info": {
   "codemirror_mode": "r",
   "file_extension": ".r",
   "mimetype": "text/x-r-source",
   "name": "R",
   "pygments_lexer": "r",
   "version": "3.6.1"
  }
 },
 "nbformat": 4,
 "nbformat_minor": 2
}
